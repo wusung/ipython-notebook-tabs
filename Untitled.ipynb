{
 "metadata": {
  "kernelspec": {
   "display_name": "Python 2",
   "language": "python",
   "name": "python2"
  },
  "language_info": {
   "codemirror_mode": {
    "name": "ipython",
    "version": 2
   },
   "file_extension": ".py",
   "mimetype": "text/x-python",
   "name": "python",
   "nbconvert_exporter": "python",
   "pygments_lexer": "ipython2",
   "version": "2.7.8"
  }
 },
 "nbformat": 4,
 "nbformat_minor": 0,
 "worksheets": [
  {
   "cells": [
    {
     "cell_type": "code",
     "execution_count": null,
     "metadata": {
      "collapsed": true
     },
     "outputs": [],
     "source": []
    },
    {
     "cell_type": "code",
     "execution_count": null,
     "metadata": {
      "collapsed": true
     },
     "outputs": [],
     "source": []
    },
    {
     "cell_type": "code",
     "execution_count": null,
     "metadata": {
      "collapsed": true
     },
     "outputs": [],
     "source": []
    },
    {
     "cell_type": "code",
     "execution_count": 1,
     "metadata": {
      "collapsed": false
     },
     "outputs": [
      {
       "data": {
        "text/plain": [
         "1234"
        ]
       },
       "execution_count": 1,
       "metadata": {},
       "output_type": "execute_result"
      }
     ],
     "source": [
      "1234"
     ]
    },
    {
     "cell_type": "code",
     "execution_count": null,
     "metadata": {
      "collapsed": true
     },
     "outputs": [],
     "source": []
    }
   ],
   "name": "Page 0"
  },
  {
   "cells": [
    {
     "cell_type": "code",
     "execution_count": 5,
     "metadata": {
      "collapsed": false
     },
     "outputs": [
      {
       "data": {
        "text/plain": [
         "'test'"
        ]
       },
       "execution_count": 5,
       "metadata": {},
       "output_type": "execute_result"
      }
     ],
     "source": [
      "'test'"
     ]
    }
   ],
   "name": "Page 1"
  },
  {
   "cells": [
    {
     "cell_type": "code",
     "execution_count": 6,
     "metadata": {
      "collapsed": false
     },
     "outputs": [
      {
       "data": {
        "text/plain": [
         "'3'"
        ]
       },
       "execution_count": 6,
       "metadata": {},
       "output_type": "execute_result"
      }
     ],
     "source": [
      "'3'"
     ]
    },
    {
     "cell_type": "code",
     "execution_count": 7,
     "metadata": {
      "collapsed": false
     },
     "outputs": [
      {
       "data": {
        "text/plain": [
         "31"
        ]
       },
       "execution_count": 7,
       "metadata": {},
       "output_type": "execute_result"
      }
     ],
     "source": [
      "31"
     ]
    }
   ],
   "name": "Page 2"
  },
  {
   "cells": [
    {
     "cell_type": "code",
     "execution_count": null,
     "metadata": {
      "collapsed": true
     },
     "outputs": [],
     "source": []
    }
   ]
  }
 ]
}
